{
 "cells": [
  {
   "cell_type": "code",
   "execution_count": 7,
   "metadata": {},
   "outputs": [
    {
     "name": "stdout",
     "output_type": "stream",
     "text": [
      "Hello World!\n"
     ]
    }
   ],
   "source": [
    "print(\"Hello World!\")"
   ]
  },
  {
   "cell_type": "code",
   "execution_count": 1,
   "metadata": {},
   "outputs": [
    {
     "output_type": "stream",
     "name": "stdout",
     "text": [
      "6\n"
     ]
    }
   ],
   "source": [
    "\"\"\"\n",
    "註解\n",
    "\"\"\"\n",
    "\n",
    "w = 0 \n",
    "x = 1\n",
    "y = 2\n",
    "z = 3\n",
    "w = (x\n",
    "     + y\n",
    "     + z)\n",
    "print(w)"
   ]
  },
  {
   "cell_type": "code",
   "execution_count": 21,
   "metadata": {},
   "outputs": [
    {
     "name": "stdout",
     "output_type": "stream",
     "text": [
      "這是變數\n"
     ]
    }
   ],
   "source": [
    "\"\"\"\n",
    "刪除變數\n",
    "\"\"\"\n",
    "a = \"這是變數\"\n",
    "print(a)\n",
    "del(a)\n",
    "#print(a)"
   ]
  },
  {
   "cell_type": "code",
   "execution_count": 25,
   "metadata": {},
   "outputs": [
    {
     "name": "stdout",
     "output_type": "stream",
     "text": [
      "10 27.89 17 Hello world True False <class 'str'>\n"
     ]
    }
   ],
   "source": [
    "#變數型態\n",
    "x1 = 10\n",
    "y1 = 27.89\n",
    "z1 = 7 + x1\n",
    "a1 = \"Hello\"\n",
    "b1 = 'world'\n",
    "c1 = True\n",
    "d1 = False\n",
    "\n",
    "print(x1, y1, z1, a1, b1, c1, d1, type(b1))"
   ]
  },
  {
   "cell_type": "code",
   "execution_count": 34,
   "metadata": {},
   "outputs": [
    {
     "name": "stdout",
     "output_type": "stream",
     "text": [
      "140703406172224\n",
      "140703406172000\n",
      "140703406172224\n",
      "140703406172224\n",
      "140703406172256\n",
      "140703406172224\n"
     ]
    }
   ],
   "source": [
    "a = b = c = 10\n",
    "b = 3\n",
    "print(id(a))\n",
    "print(id(b))\n",
    "print(id(c))\n",
    "x = 10\n",
    "y = 11\n",
    "z = 20\n",
    "z = z - a\n",
    "print(id(x))\n",
    "print(id(y))\n",
    "print(id(z))"
   ]
  },
  {
   "cell_type": "code",
   "execution_count": 41,
   "metadata": {},
   "outputs": [
    {
     "name": "stdout",
     "output_type": "stream",
     "text": [
      "圓面積： 201.06176\n",
      "圓周長度： 50.26544\n"
     ]
    }
   ],
   "source": [
    "r = 8\n",
    "pi = 3.14159\n",
    "print(\"圓面積：\", pi * r ** 2)\n",
    "print(\"圓周長度：\", 2 * pi * r)"
   ]
  },
  {
   "cell_type": "code",
   "execution_count": 6,
   "metadata": {},
   "outputs": [
    {
     "name": "stdout",
     "output_type": "stream",
     "text": [
      "數值相加： 999\n",
      "這是第2次print\n",
      "數值相加：\n",
      "999\t這是第2次print 999\n"
     ]
    }
   ],
   "source": [
    "n1 = 222\n",
    "n2 = 777\n",
    "n3 = n1 + n2\n",
    "print(\"數值相加：\", n3)\n",
    "print(\"這是第2次print\")\n",
    "\n",
    "\n",
    "print(\"數值相加：\", n3, sep = '\\n' ,end = '\\t')\n",
    "print(\"這是第2次print\", n3)"
   ]
  },
  {
   "cell_type": "code",
   "execution_count": 12,
   "metadata": {},
   "outputs": [
    {
     "name": "stdout",
     "output_type": "stream",
     "text": [
      "================================================================================\n",
      "========================================\n",
      "====================\n",
      "==========\n",
      "=====\n"
     ]
    }
   ],
   "source": [
    "print(\"=\" * 80 )\n",
    "print(\"=\" * 40)\n",
    "print(\"=\" * 20)\n",
    "print(\"=\" * 10)\n",
    "print(\"=\" * 5)"
   ]
  },
  {
   "cell_type": "code",
   "execution_count": 13,
   "metadata": {},
   "outputs": [
    {
     "name": "stdout",
     "output_type": "stream",
     "text": [
      "五五五555\n"
     ]
    }
   ],
   "source": [
    "num = 555\n",
    "str1 = \"五五五\"\n",
    "str2 = str(555)\n",
    "print(str1 + str2)"
   ]
  },
  {
   "cell_type": "code",
   "execution_count": 19,
   "metadata": {},
   "outputs": [
    {
     "name": "stdout",
     "output_type": "stream",
     "text": [
      "Tony 你的成績是 87\n",
      "87 你的成績是 Tony\n"
     ]
    }
   ],
   "source": [
    "score = 87 \n",
    "name = \"Tony\"\n",
    "ss = str(score)\n",
    "print(\"%s 你的成績是 %d\" % (name, score))\n",
    "print(\"%s 你的成績是 %s\" % (ss, name))"
   ]
  },
  {
   "cell_type": "code",
   "execution_count": 32,
   "metadata": {},
   "outputs": [
    {
     "name": "stdout",
     "output_type": "stream",
     "text": [
      "Tony 你的第 2 次成績是 80 \n",
      "Tony 你的第 2 次成績是 80 \n",
      "Tony 你的第 80 次成績是 2 \n",
      "80 你的第 2 次成績是 2 \n",
      "Tony 你的第 2 次成績是 80 \n",
      "Tony 你的第 5 次成績是 70 \n"
     ]
    }
   ],
   "source": [
    "score = 80\n",
    "name = \"Tony\"\n",
    "count = 2\n",
    "\n",
    "str = \"{n} 你的第 {c} 次成績是 {s} \".format(n = name, c = count, s =score)\n",
    "print(str)\n",
    "print(\"{} 你的第 {} 次成績是 {} \".format(name, count, score))\n",
    "print(\"{0} 你的第 {2} 次成績是 {1} \".format(name, count, score))\n",
    "print(\"{2} 你的第 {1} 次成績是 {1} \".format(name, count, score))\n",
    "print(\"{n} 你的第 {c} 次成績是 {s} \".format(n = name, c = count, s =score))\n",
    "\n",
    "\n",
    "score = 70\n",
    "name = \"Tony\"\n",
    "count = 5\n",
    "str = \"{n} 你的第 {c} 次成績是 {s} \".format(n = name, c = count, s =score)\n",
    "print(str)"
   ]
  },
  {
   "cell_type": "code",
   "execution_count": 43,
   "metadata": {},
   "outputs": [
    {
     "name": "stdout",
     "output_type": "stream",
     "text": [
      "123\n",
      " 123\n",
      "     123\n",
      "+123    \n",
      "123     \n",
      "00000123\n",
      "+0000123\n",
      "+0000123\n"
     ]
    }
   ],
   "source": [
    "num = 123\n",
    "print(\"%2d\"%(num))\n",
    "print(\"%4d\"%(num))\n",
    "print(\"%8d\"%(num))\n",
    "print(\"%+-8d\"%(num))\n",
    "print(\"%-8d\"%(num))\n",
    "print(\"%08d\"%(num))\n",
    "print(\"%+08d\"%(num))\n",
    "print(\"%0+8d\"%(num))"
   ]
  },
  {
   "cell_type": "code",
   "execution_count": 59,
   "metadata": {},
   "outputs": [
    {
     "name": "stdout",
     "output_type": "stream",
     "text": [
      "半徑  3，園面積是     28.27\n",
      "半徑  3，園面積是     28.27\n",
      "半徑  3，園面積是  28.27   \n",
      "半徑  3，園面積是28.27     \n"
     ]
    }
   ],
   "source": [
    "pi = 3.14159\n",
    "area = pi * 3 **2\n",
    "\n",
    "print(\"半徑{0:3d}，園面積是{1:10.2f}\".format(3, area))\n",
    "print(\"半徑{0:3d}，園面積是{1:>10.2f}\".format(3, area))\n",
    "print(\"半徑{0:3d}，園面積是{1:^10.2f}\".format(3, area))\n",
    "print(\"半徑{0:3d}，園面積是{1:<10.2f}\".format(3, area))"
   ]
  },
  {
   "cell_type": "code",
   "execution_count": 61,
   "metadata": {},
   "outputs": [],
   "source": [
    "fs1 = open(\"out1.txt\", mode = \"w\", encoding = \"UTF-8\")\n",
    "print(\"Test\", file = fs1)\n",
    "fs1.close( )"
   ]
  },
  {
   "cell_type": "code",
   "execution_count": 9,
   "metadata": {},
   "outputs": [
    {
     "name": "stdout",
     "output_type": "stream",
     "text": [
      "請輸字串：552\n",
      "str1是 552\n",
      "str1資料類型是 <class 'str'>\n"
     ]
    }
   ],
   "source": [
    "str1 = input(\"請輸字串：\")\n",
    "print(\"str1是\", str1)\n",
    "print(\"str1資料類型是\", type(str1))\n"
   ]
  },
  {
   "cell_type": "code",
   "execution_count": 8,
   "metadata": {},
   "outputs": [
    {
     "name": "stdout",
     "output_type": "stream",
     "text": [
      "a = b\n",
      "end\n"
     ]
    }
   ],
   "source": [
    "a = 130\n",
    "b = 130\n",
    "if a > b:\n",
    "    print(\"a > b\")\n",
    "elif a < b:\n",
    "    print(\"a < b\")\n",
    "else:\n",
    "    print(\"a = b\")\n",
    "        \n",
    "print(\"end\")"
   ]
  },
  {
   "cell_type": "code",
   "execution_count": 21,
   "metadata": {},
   "outputs": [
    {
     "name": "stdout",
     "output_type": "stream",
     "text": [
      "請輸入分數：77\n",
      "C\n"
     ]
    }
   ],
   "source": [
    "score = int(input(\"請輸入分數：\"))\n",
    "if score > 100 or score < 0:\n",
    "    print(\"輸入錯誤 超過範圍\")\n",
    "elif score > 90:\n",
    "    print(\"A\")\n",
    "elif score > 80:\n",
    "    print(\"B\")\n",
    "elif score > 70:\n",
    "    print(\"C\")\n",
    "elif score > 60:\n",
    "    print(\"D\")\n",
    "else:\n",
    "    print(\"E\")\n"
   ]
  },
  {
   "cell_type": "code",
   "execution_count": 25,
   "metadata": {},
   "outputs": [
    {
     "name": "stdout",
     "output_type": "stream",
     "text": [
      "1 3 5 7 是否有你喜歡的數字,有的話請輸入Yg\n",
      "2 3 6 7 是否有你喜歡的數字,有的話請輸入Ys\n",
      "4 5 6 7 是否有你喜歡的數字,有的話請輸入Yy\n",
      "你喜歡的數字是 4\n"
     ]
    }
   ],
   "source": [
    "num = 0;\n",
    "Q1 = \"1 3 5 7 是否有你喜歡的數字,有的話請輸入Y\"\n",
    "A1 = input(Q1)\n",
    "if A1 == \"Y\" or A1 == \"y\":\n",
    "    num = num + 1\n",
    "Q2 = \"2 3 6 7 是否有你喜歡的數字,有的話請輸入Y\"\n",
    "A2 = input(Q2)\n",
    "if A2 == \"Y\" or A2 == \"y\":\n",
    "    num = num + 2\n",
    "Q3 = \"4 5 6 7 是否有你喜歡的數字,有的話請輸入Y\"\n",
    "A3 = input(Q3)\n",
    "if A3 == \"Y\" or A3 == \"y\":\n",
    "    num = num + 4\n",
    "print(\"你喜歡的數字是\" ,num)"
   ]
  },
  {
   "cell_type": "code",
   "execution_count": 4,
   "metadata": {},
   "outputs": [
    {
     "name": "stdout",
     "output_type": "stream",
     "text": [
      "1\n",
      "2\n"
     ]
    }
   ],
   "source": [
    "for x in range(0, 3):\n",
    "    print(x)"
   ]
  },
  {
   "cell_type": "code",
   "execution_count": 66,
   "metadata": {},
   "outputs": [
    {
     "name": "stdout",
     "output_type": "stream",
     "text": [
      " 1 *  1 =  1  2 *  1 =  2  3 *  1 =  3  4 *  1 =  4  5 *  1 =  5  6 *  1 =  6  7 *  1 =  7  8 *  1 =  8  9 *  1 =  9 \n",
      " 1 *  2 =  2  2 *  2 =  4  3 *  2 =  6  4 *  2 =  8  5 *  2 = 10  6 *  2 = 12  7 *  2 = 14  8 *  2 = 16  9 *  2 = 18 \n",
      " 1 *  3 =  3  2 *  3 =  6  3 *  3 =  9  4 *  3 = 12  5 *  3 = 15  6 *  3 = 18  7 *  3 = 21  8 *  3 = 24  9 *  3 = 27 \n",
      " 1 *  4 =  4  2 *  4 =  8  3 *  4 = 12  4 *  4 = 16  5 *  4 = 20  6 *  4 = 24  7 *  4 = 28  8 *  4 = 32  9 *  4 = 36 \n",
      " 1 *  5 =  5  2 *  5 = 10  3 *  5 = 15  4 *  5 = 20  5 *  5 = 25  6 *  5 = 30  7 *  5 = 35  8 *  5 = 40  9 *  5 = 45 \n",
      " 1 *  6 =  6  2 *  6 = 12  3 *  6 = 18  4 *  6 = 24  5 *  6 = 30  6 *  6 = 36  7 *  6 = 42  8 *  6 = 48  9 *  6 = 54 \n",
      " 1 *  7 =  7  2 *  7 = 14  3 *  7 = 21  4 *  7 = 28  5 *  7 = 35  6 *  7 = 42  7 *  7 = 49  8 *  7 = 56  9 *  7 = 63 \n",
      " 1 *  8 =  8  2 *  8 = 16  3 *  8 = 24  4 *  8 = 32  5 *  8 = 40  6 *  8 = 48  7 *  8 = 56  8 *  8 = 64  9 *  8 = 72 \n",
      " 1 *  9 =  9  2 *  9 = 18  3 *  9 = 27  4 *  9 = 36  5 *  9 = 45  6 *  9 = 54  7 *  9 = 63  8 *  9 = 72  9 *  9 = 81 \n"
     ]
    }
   ],
   "source": [
    "for x in range(1,10):\n",
    "    for y in range(1,10):\n",
    "        print(\"%2d\"%y, \"*\", \"%2d\"%x ,\"=\",\"%2d\"%(x*y), end = \" \")\n",
    "    print()\n",
    "        "
   ]
  },
  {
   "cell_type": "code",
   "execution_count": 35,
   "metadata": {},
   "outputs": [
    {
     "name": "stdout",
     "output_type": "stream",
     "text": [
      "* \n",
      "* * \n",
      "* * * \n",
      "* * * * \n",
      "* * * * * \n",
      "* * * * * * \n",
      "* * * * * * * \n",
      "* * * * * * * * \n",
      "* * * * * * * * * \n",
      "* * * * * * * * * * \n"
     ]
    }
   ],
   "source": [
    "for x in range(0, 10):\n",
    "    for y in range(0, x+1):\n",
    "        print(\"*\", end = ' ')\n",
    "    print()"
   ]
  },
  {
   "cell_type": "code",
   "execution_count": 45,
   "metadata": {},
   "outputs": [
    {
     "name": "stdout",
     "output_type": "stream",
     "text": [
      "3\n"
     ]
    }
   ],
   "source": [
    "scores = [70, 50, 60, 55, 12, 77, 90]\n",
    "count = 0\n",
    "\n",
    "for score in scores:\n",
    "    if score >= 60:\n",
    "        continue\n",
    "    count = count + 1\n",
    "print(count)"
   ]
  },
  {
   "cell_type": "code",
   "execution_count": 51,
   "metadata": {},
   "outputs": [
    {
     "name": "stdout",
     "output_type": "stream",
     "text": [
      "請輸入大於1的整數做質數測試 = 85\n",
      "85不是質數，它可以被5整除\n"
     ]
    }
   ],
   "source": [
    "num = int(input(\"請輸入大於1的整數做質數測試 = \"))\n",
    "if num == 2:                                # 2是質數所以直接輸出\n",
    "    print(\"%d是質數\" % num)\n",
    "else:\n",
    "    for n in range(2, num):                 # 用2 .. num-1當除數測試\n",
    "        if num % n == 0:                    # 如果整除則不是質數\n",
    "            print(\"%d不是質數，它可以被%d整除\" %( num , n))\n",
    "            break                           # 離開迴圈\n",
    " \n",
    "    else:                                   # 否則是質數\n",
    "        print(\"%d是質數\" % num)"
   ]
  },
  {
   "cell_type": "code",
   "execution_count": 6,
   "metadata": {},
   "outputs": [
    {
     "output_type": "stream",
     "name": "stdout",
     "text": [
      "1 * 1 =  1  2 * 1 =  2  3 * 1 =  3  4 * 1 =  4  5 * 1 =  5  6 * 1 =  6  7 * 1 =  7  8 * 1 =  8  9 * 1 =  9  \n1 * 2 =  2  2 * 2 =  4  3 * 2 =  6  4 * 2 =  8  5 * 2 = 10  6 * 2 = 12  7 * 2 = 14  8 * 2 = 16  9 * 2 = 18  \n1 * 3 =  3  2 * 3 =  6  3 * 3 =  9  4 * 3 = 12  5 * 3 = 15  6 * 3 = 18  7 * 3 = 21  8 * 3 = 24  9 * 3 = 27  \n1 * 4 =  4  2 * 4 =  8  3 * 4 = 12  4 * 4 = 16  5 * 4 = 20  6 * 4 = 24  7 * 4 = 28  8 * 4 = 32  9 * 4 = 36  \n1 * 5 =  5  2 * 5 = 10  3 * 5 = 15  4 * 5 = 20  5 * 5 = 25  6 * 5 = 30  7 * 5 = 35  8 * 5 = 40  9 * 5 = 45  \n1 * 6 =  6  2 * 6 = 12  3 * 6 = 18  4 * 6 = 24  5 * 6 = 30  6 * 6 = 36  7 * 6 = 42  8 * 6 = 48  9 * 6 = 54  \n1 * 7 =  7  2 * 7 = 14  3 * 7 = 21  4 * 7 = 28  5 * 7 = 35  6 * 7 = 42  7 * 7 = 49  8 * 7 = 56  9 * 7 = 63  \n1 * 8 =  8  2 * 8 = 16  3 * 8 = 24  4 * 8 = 32  5 * 8 = 40  6 * 8 = 48  7 * 8 = 56  8 * 8 = 64  9 * 8 = 72  \n1 * 9 =  9  2 * 9 = 18  3 * 9 = 27  4 * 9 = 36  5 * 9 = 45  6 * 9 = 54  7 * 9 = 63  8 * 9 = 72  9 * 9 = 81  \n"
     ]
    }
   ],
   "source": [
    "x = 1\n",
    "y = 1\n",
    "while x < 10:\n",
    "    while y < 10:\n",
    "        print(\"%d\"%y, \"*\", \"%d\"%x ,\"=\",\"%2d\"%(x*y), end = \"  \")\n",
    "        y = y + 1\n",
    "    print()\n",
    "    y = 1\n",
    "    x = x + 1"
   ]
  },
  {
   "cell_type": "code",
   "execution_count": 7,
   "metadata": {},
   "outputs": [
    {
     "name": "stdout",
     "output_type": "stream",
     "text": [
      "plan\n"
     ]
    }
   ],
   "source": [
    "arr = ['apple','cat','plan']\n",
    "print(arr[-1])"
   ]
  },
  {
   "cell_type": "code",
   "execution_count": 40,
   "metadata": {},
   "outputs": [
    {
     "name": "stdout",
     "output_type": "stream",
     "text": [
      "7\n",
      "sun sat fri thu wen tue mon \n",
      "mon tue wen thu fri sat sun \n",
      "sun sat fri thu wen tue mon \n",
      "fri mon sat sun thu tue wen "
     ]
    }
   ],
   "source": [
    "weekday = ['mon','tue','wen','thu','fri','sat','sun']\n",
    "print(len(weekday))\n",
    "for i in range(len(weekday)-1,-1,-1):\n",
    "    print(weekday[i],end = ' ')\n",
    "print()\n",
    "for i in range(0,len(weekday),1):\n",
    "    print(weekday[i],end = ' ')\n",
    "print()\n",
    "\n",
    "weekday.reverse()\n",
    "for i in range(0,len(weekday),1):\n",
    "    print(weekday[i],end = ' ')\n",
    "print()\n",
    "\n",
    "weekday.sort()\n",
    "for i in range(0,len(weekday),1):\n",
    "    print(weekday[i],end = ' ')"
   ]
  },
  {
   "cell_type": "code",
   "execution_count": 47,
   "metadata": {},
   "outputs": [
    {
     "name": "stdout",
     "output_type": "stream",
     "text": [
      "200\n",
      "3\n",
      "鍵芭樂\n",
      "值50\n",
      "{'鳳梨': 200, '西瓜': 300, '香蕉': 45, '芭樂': '50'}\n"
     ]
    }
   ],
   "source": [
    "fruit = {'鳳梨':200,'西瓜':300,'香蕉':45}\n",
    "print(fruit['鳳梨'])\n",
    "print(len(fruit))\n",
    "\n",
    "key = input('鍵')\n",
    "val = input(\"值\")\n",
    "if key in fruit:\n",
    "    print(\"%s已經存在\"%(key))\n",
    "else:\n",
    "    fruit[key] = val\n",
    "    print(fruit)"
   ]
  },
  {
   "cell_type": "code",
   "execution_count": 2,
   "metadata": {},
   "outputs": [
    {
     "output_type": "stream",
     "name": "stdout",
     "text": [
      "0CC0D"
     ]
    }
   ],
   "source": [
    "formtable = {\"A\":4,\"E\":3,\"G\":6,\"I\":1,\"O\":0,\"S\":5,\"Z\":2}\n",
    "inputStr = input(\"請輸入字串\")\n",
    "for i in range(0,len(inputStr)):\n",
    "    if inputStr[i] in formtable:\n",
    "        print(formtable[inputStr[i]], end='')\n",
    "    else:\n",
    "        print(inputStr[i], end='')"
   ]
  },
  {
   "cell_type": "code",
   "execution_count": null,
   "metadata": {},
   "outputs": [],
   "source": []
  }
 ],
 "metadata": {
  "kernelspec": {
   "name": "python388jvsc74a57bd05b580653b13d0a0ce49eb17a7e4de6c07cf7c978d11ceeeceff7f35e45fdfd44",
   "display_name": "Python 3.8.8 64-bit ('python20210503': conda)"
  },
  "language_info": {
   "codemirror_mode": {
    "name": "ipython",
    "version": 3
   },
   "file_extension": ".py",
   "mimetype": "text/x-python",
   "name": "python",
   "nbconvert_exporter": "python",
   "pygments_lexer": "ipython3",
   "version": "3.8.8"
  },
  "metadata": {
   "interpreter": {
    "hash": "5b580653b13d0a0ce49eb17a7e4de6c07cf7c978d11ceeeceff7f35e45fdfd44"
   }
  }
 },
 "nbformat": 4,
 "nbformat_minor": 4
}